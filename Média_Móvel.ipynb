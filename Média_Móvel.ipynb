{
  "nbformat": 4,
  "nbformat_minor": 0,
  "metadata": {
    "colab": {
      "name": "Média Móvel.ipynb",
      "provenance": [],
      "authorship_tag": "ABX9TyOKFnIbFrQk2kt2RvIpkJJ6",
      "include_colab_link": true
    },
    "kernelspec": {
      "name": "python3",
      "display_name": "Python 3"
    }
  },
  "cells": [
    {
      "cell_type": "markdown",
      "metadata": {
        "id": "view-in-github",
        "colab_type": "text"
      },
      "source": [
        "<a href=\"https://colab.research.google.com/github/VictorHerbert/MedidorSonoro/blob/master/M%C3%A9dia_M%C3%B3vel.ipynb\" target=\"_parent\"><img src=\"https://colab.research.google.com/assets/colab-badge.svg\" alt=\"Open In Colab\"/></a>"
      ]
    },
    {
      "cell_type": "markdown",
      "metadata": {
        "id": "6PhU3rEhs_dB",
        "colab_type": "text"
      },
      "source": [
        "# Média Móvel"
      ]
    },
    {
      "cell_type": "markdown",
      "metadata": {
        "id": "3OCut0AjtDAm",
        "colab_type": "text"
      },
      "source": [
        "Podemos definir um filtro de média móvel por\n",
        "\n",
        "$$y[n]= \\frac{1}{N} \\sum_{i=0}^{N} x[n-i]$$\n",
        "\n",
        "em que $N$ é a janela do filtro, $x[n]$ e $y[n]$ são as respectivas entrada e saída"
      ]
    },
    {
      "cell_type": "code",
      "metadata": {
        "id": "z9LzGfD6mNzs",
        "colab_type": "code",
        "colab": {}
      },
      "source": [
        "import numpy as np\n",
        "import mathplotlib.pyplot as plt\n",
        "\n",
        "\n",
        "t = np.arange(0,100);\n"
      ],
      "execution_count": 0,
      "outputs": []
    }
  ]
}