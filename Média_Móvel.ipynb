{
  "nbformat": 4,
  "nbformat_minor": 0,
  "metadata": {
    "colab": {
      "name": "Média Móvel.ipynb",
      "provenance": [],
      "authorship_tag": "ABX9TyOnB5kVV1tGnvywLqftr+pG",
      "include_colab_link": true
    },
    "kernelspec": {
      "name": "python3",
      "display_name": "Python 3"
    }
  },
  "cells": [
    {
      "cell_type": "markdown",
      "metadata": {
        "id": "view-in-github",
        "colab_type": "text"
      },
      "source": [
        "<a href=\"https://colab.research.google.com/github/VictorHerbert/MedidorSonoro/blob/master/M%C3%A9dia_M%C3%B3vel.ipynb\" target=\"_parent\"><img src=\"https://colab.research.google.com/assets/colab-badge.svg\" alt=\"Open In Colab\"/></a>"
      ]
    },
    {
      "cell_type": "markdown",
      "metadata": {
        "id": "6PhU3rEhs_dB",
        "colab_type": "text"
      },
      "source": [
        "# Média Móvel"
      ]
    },
    {
      "cell_type": "markdown",
      "metadata": {
        "id": "3OCut0AjtDAm",
        "colab_type": "text"
      },
      "source": [
        "Podemos definir um filtro de média móvel para um sinal de tempo discreto por\n",
        "\n",
        "$$y[n]= \\frac{1}{N} \\sum_{i=0}^{N} x[n-i]$$\n",
        "\n",
        "em que $N$ é a janela do filtro, $x[n]$ e $y[n]$ são as respectivas entrada e saída"
      ]
    },
    {
      "cell_type": "markdown",
      "metadata": {
        "id": "mI6Xbhr68Peq",
        "colab_type": "text"
      },
      "source": [
        "## Resposta ao impulso"
      ]
    },
    {
      "cell_type": "code",
      "metadata": {
        "id": "z9LzGfD6mNzs",
        "colab_type": "code",
        "colab": {
          "base_uri": "https://localhost:8080/",
          "height": 265
        },
        "outputId": "bc75ee6b-ca7d-4f3d-9e17-fc0c1efc8f2c"
      },
      "source": [
        "import numpy as np\n",
        "import matplotlib.pyplot as plt\n",
        "\n",
        "samples = 200\n",
        "N = 50\n",
        "\n",
        "t = np.linspace(-samples,samples,2*samples+1)\n",
        "x = np.zeros(2*samples+1)\n",
        "y = np.zeros(2*samples+1)\n",
        "\n",
        "x[samples] = 1\n",
        "\n",
        "for n in range(2*samples+1):\n",
        "  y[n] = np.sum(x[max(0,n-N):n+1])/N\n",
        "\n",
        "plt.plot(t,y);\n",
        "plt.grid()\n",
        "plt.show()"
      ],
      "execution_count": 39,
      "outputs": [
        {
          "output_type": "display_data",
          "data": {
            "image/png": "[encoded data removed]",
            "text/plain": [
              "<Figure size 432x288 with 1 Axes>"
            ]
          },
          "metadata": {
            "tags": []
          }
        }
      ]
    },
    {
      "cell_type": "markdown",
      "metadata": {
        "id": "fP5s2tzS8U94",
        "colab_type": "text"
      },
      "source": [
        "A resposta ao impulso unitário $\\delta[t]$ é dada por uma função conhecida, $u[t]-u[t-pN]$ em que $p$ é o período de amostragem."
      ]
    },
    {
      "cell_type": "markdown",
      "metadata": {
        "id": "fRJYDnL_9Yps",
        "colab_type": "text"
      },
      "source": [
        "# Análise contínua"
      ]
    },
    {
      "cell_type": "markdown",
      "metadata": {
        "id": "CGM2hWF79hz7",
        "colab_type": "text"
      },
      "source": [
        "Se $p << \\frac{1}{f_{max}}$ então podemos considerar nosso sinal como contínuo no tempo, logo a resposta ao impulso $x(t) = \\delta(t)$ é $y(n) = u(t)-u(t-pN)$.\n",
        "\n",
        "\n",
        "Sendo assim, $y(j\\omega) = \\frac{j-e^{pN\\omega}}{\\omega}$\n",
        "\n"
      ]
    }
  ]
}